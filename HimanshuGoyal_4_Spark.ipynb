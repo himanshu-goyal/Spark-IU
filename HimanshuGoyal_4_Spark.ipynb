{
 "cells": [
  {
   "cell_type": "code",
   "execution_count": 163,
   "metadata": {},
   "outputs": [
    {
     "name": "stdout",
     "output_type": "stream",
     "text": [
      "+-------------+-----+\n",
      "|Birth_Country|count|\n",
      "+-------------+-----+\n",
      "|        Korea|   91|\n",
      "+-------------+-----+\n",
      "\n"
     ]
    }
   ],
   "source": [
    "from pyspark.sql.types import StructType\n",
    "from pyspark.sql.types import StructField\n",
    "from pyspark.sql.types import StringType\n",
    "log_txt=sc.textFile(\"Fake_data.txt\")\n",
    "header = log_txt.first()\n",
    "log_txt = log_txt.filter(lambda line: line != header)\n",
    "emp_var = log_txt.map(lambda k: k.split(\",\"))\n",
    "schema = StructType(\n",
    "    [\n",
    "     StructField('No', StringType(), True),\n",
    "     StructField('Birth_Country', StringType(), True),\n",
    "     StructField('Email', StringType(), True),\n",
    "     StructField('First_Name', StringType(), True),\n",
    "     StructField('Income', StringType(), True),\n",
    "     StructField('Job', StringType(), True),\n",
    "     StructField('Last_name', StringType(), True),\n",
    "     StructField('Loan_Approved', StringType(), True),\n",
    "     StructField('SSN', StringType(), True)]\n",
    ")\n",
    "df = sqlContext.createDataFrame(emp_var, schema)\n",
    "df.groupby('Birth_Country').count().sort(desc('count')).limit(1).show()"
   ]
  },
  {
   "cell_type": "code",
   "execution_count": 164,
   "metadata": {},
   "outputs": [
    {
     "name": "stdout",
     "output_type": "stream",
     "text": [
      "+------------------+\n",
      "|       avg(Income)|\n",
      "+------------------+\n",
      "|208759.82352941178|\n",
      "+------------------+\n",
      "\n"
     ]
    }
   ],
   "source": [
    "df.filter(df.Birth_Country ==\"United States of America\").agg({'Income':'avg'}).show()"
   ]
  },
  {
   "cell_type": "code",
   "execution_count": 165,
   "metadata": {},
   "outputs": [
    {
     "data": {
      "text/plain": [
       "4009"
      ]
     },
     "execution_count": 165,
     "metadata": {},
     "output_type": "execute_result"
    }
   ],
   "source": [
    "df.filter((df.Income>100000)&(df.Loan_Approved=='FALSE')).count()"
   ]
  },
  {
   "cell_type": "code",
   "execution_count": 167,
   "metadata": {},
   "outputs": [
    {
     "name": "stdout",
     "output_type": "stream",
     "text": [
      "+-----------+---------+------+--------------------+\n",
      "| First_Name|Last_name|Income|                 Job|\n",
      "+-----------+---------+------+--------------------+\n",
      "|     Sherri|  Aguilar|101810|     Therapist drama|\n",
      "|     Justin|   Murphy|102305|Secretary/adminis...|\n",
      "|      Sarah| Harrison|112140|           Barrister|\n",
      "|  Stephanie|   Harris|127482|            Best boy|\n",
      "|Christopher|     Ward|153716|Manufacturing sys...|\n",
      "|    Adriana| Mcdonald|183976|Psychotherapist c...|\n",
      "|       John|   Martin|190090|       Haematologist|\n",
      "|       Seth| Campbell| 19296|        Metallurgist|\n",
      "|    Allison|    Price|195395|Television floor ...|\n",
      "|    Kristin| Reynolds| 20076|         Ship broker|\n",
      "+-----------+---------+------+--------------------+\n",
      "only showing top 10 rows\n",
      "\n"
     ]
    }
   ],
   "source": [
    "df.sort((\"Income\")).filter(df.Birth_Country == \"United States of America\").select('First_Name','Last_name','Income','Job').show(10)"
   ]
  },
  {
   "cell_type": "code",
   "execution_count": 168,
   "metadata": {},
   "outputs": [
    {
     "data": {
      "text/plain": [
       "640"
      ]
     },
     "execution_count": 168,
     "metadata": {},
     "output_type": "execute_result"
    }
   ],
   "source": [
    "df.select('Job').distinct().count()"
   ]
  },
  {
   "cell_type": "code",
   "execution_count": 169,
   "metadata": {},
   "outputs": [
    {
     "data": {
      "text/plain": [
       "5"
      ]
     },
     "execution_count": 169,
     "metadata": {},
     "output_type": "execute_result"
    }
   ],
   "source": [
    "df.filter((df.Income<100000)&(df.Job==\"Writer\")).count()"
   ]
  },
  {
   "cell_type": "code",
   "execution_count": null,
   "metadata": {},
   "outputs": [],
   "source": []
  },
  {
   "cell_type": "code",
   "execution_count": null,
   "metadata": {
    "collapsed": true
   },
   "outputs": [],
   "source": []
  }
 ],
 "metadata": {
  "kernelspec": {
   "display_name": "Python 3",
   "language": "python",
   "name": "python3"
  },
  "language_info": {
   "codemirror_mode": {
    "name": "ipython",
    "version": 3
   },
   "file_extension": ".py",
   "mimetype": "text/x-python",
   "name": "python",
   "nbconvert_exporter": "python",
   "pygments_lexer": "ipython3",
   "version": "3.6.1"
  }
 },
 "nbformat": 4,
 "nbformat_minor": 2
}
