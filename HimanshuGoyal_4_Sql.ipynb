{
 "cells": [
  {
   "cell_type": "code",
   "execution_count": 1,
   "metadata": {},
   "outputs": [
    {
     "name": "stdout",
     "output_type": "stream",
     "text": [
      "+------------------+--------+\n",
      "|max(Birth_Country)|count(1)|\n",
      "+------------------+--------+\n",
      "|             Korea|      91|\n",
      "+------------------+--------+\n",
      "\n"
     ]
    }
   ],
   "source": [
    "from pyspark import SQLContext\n",
    "sqlContext = SQLContext(sc)\n",
    "fake_rdd=sc.textFile(\"Fake_data.txt\").map(lambda line: line.split(\",\"))\n",
    "header = fake_rdd.first()\n",
    "log_txt = fake_rdd.filter(lambda line: line != header)\n",
    "fake_df=log_txt.toDF(['No','Birth_Country','Email','First_Name','Income','Job','Last_name','Loan_Approved','SSN'])\n",
    "fake_df.registerTempTable(\"Fake_Table\")\n",
    "sqlContext.sql(\"select  max(Birth_Country),count(*) from Fake_Table group by Birth_Country order by count(*) desc limit 1\").show()\n"
   ]
  },
  {
   "cell_type": "code",
   "execution_count": 2,
   "metadata": {},
   "outputs": [
    {
     "name": "stdout",
     "output_type": "stream",
     "text": [
      "+---------------------------+\n",
      "|avg(CAST(Income AS DOUBLE))|\n",
      "+---------------------------+\n",
      "|         208759.82352941178|\n",
      "+---------------------------+\n",
      "\n"
     ]
    }
   ],
   "source": [
    "sqlContext.sql(\"select avg(Income)  from Fake_Table where  Birth_Country='United States of America'\").show()\n"
   ]
  },
  {
   "cell_type": "code",
   "execution_count": 3,
   "metadata": {},
   "outputs": [
    {
     "name": "stdout",
     "output_type": "stream",
     "text": [
      "+--------+\n",
      "|count(1)|\n",
      "+--------+\n",
      "|    4009|\n",
      "+--------+\n",
      "\n"
     ]
    }
   ],
   "source": [
    "sqlContext.sql(\"select count(*) from Fake_Table where loan_approved='FALSE' and Income>100000\").show()\n",
    "\n"
   ]
  },
  {
   "cell_type": "code",
   "execution_count": 4,
   "metadata": {},
   "outputs": [
    {
     "name": "stdout",
     "output_type": "stream",
     "text": [
      "+--------+--------------------+------+\n",
      "|    Name|                 Job|Income|\n",
      "+--------+--------------------+------+\n",
      "|  Alyssa|Amenity horticult...|482588|\n",
      "|  Hunter|Psychologist pris...|468946|\n",
      "|    Rose|Adult guidance wo...|426115|\n",
      "|Danielle|Furniture conserv...|389810|\n",
      "|   Terry|       Meteorologist|380410|\n",
      "|   Cindy|Research scientis...|370322|\n",
      "|   Scott|       Art therapist|368913|\n",
      "| Christy|       Engineer land|355150|\n",
      "|   Kelly|           Press sub|341448|\n",
      "|Kristina|           Herbalist|338804|\n",
      "+--------+--------------------+------+\n",
      "\n"
     ]
    }
   ],
   "source": [
    "sqlContext.sql(\"select  First_Name as Name,Job,Income  from Fake_Table where  Birth_Country='United States of America' order by cast(Income as double) desc limit 10\").show()\n",
    "\n"
   ]
  },
  {
   "cell_type": "code",
   "execution_count": 5,
   "metadata": {},
   "outputs": [
    {
     "name": "stdout",
     "output_type": "stream",
     "text": [
      "+-------------------+\n",
      "|count(DISTINCT job)|\n",
      "+-------------------+\n",
      "|                640|\n",
      "+-------------------+\n",
      "\n"
     ]
    }
   ],
   "source": [
    "sqlContext.sql(\"select count(distinct job) from Fake_Table\").show()\n"
   ]
  },
  {
   "cell_type": "code",
   "execution_count": 6,
   "metadata": {},
   "outputs": [
    {
     "name": "stdout",
     "output_type": "stream",
     "text": [
      "+---------------+\n",
      "|NumberofWriters|\n",
      "+---------------+\n",
      "|              5|\n",
      "+---------------+\n",
      "\n"
     ]
    }
   ],
   "source": [
    "sqlContext.sql(\"select count(*) as NumberofWriters from Fake_Table where Job='Writer' and Income<100000\").show()"
   ]
  },
  {
   "cell_type": "code",
   "execution_count": null,
   "metadata": {
    "collapsed": true
   },
   "outputs": [],
   "source": []
  }
 ],
 "metadata": {
  "kernelspec": {
   "display_name": "Python 3",
   "language": "python",
   "name": "python3"
  },
  "language_info": {
   "codemirror_mode": {
    "name": "ipython",
    "version": 3
   },
   "file_extension": ".py",
   "mimetype": "text/x-python",
   "name": "python",
   "nbconvert_exporter": "python",
   "pygments_lexer": "ipython3",
   "version": "3.6.1"
  }
 },
 "nbformat": 4,
 "nbformat_minor": 2
}
